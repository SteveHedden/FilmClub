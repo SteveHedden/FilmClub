{
 "cells": [
  {
   "cell_type": "markdown",
   "metadata": {},
   "source": [
    "# Network analysis on the IMDB database"
   ]
  },
  {
   "cell_type": "code",
   "execution_count": 305,
   "metadata": {},
   "outputs": [],
   "source": [
    "import matplotlib.pyplot as plt\n",
    "import pandas as pd\n",
    "import numpy as np\n",
    "import networkx as nx\n",
    "import json\n",
    "import datetime\n",
    "import itertools\n",
    "import community"
   ]
  },
  {
   "cell_type": "markdown",
   "metadata": {},
   "source": [
    "Read in the cleaned datasets. Mod is all modern movies (post 1960) with ratings so that we can filter for more \"popular\" movies."
   ]
  },
  {
   "cell_type": "code",
   "execution_count": 306,
   "metadata": {},
   "outputs": [],
   "source": [
    "mod = pd.read_csv(\"ModernMovieswRatings.csv\")"
   ]
  },
  {
   "cell_type": "markdown",
   "metadata": {},
   "source": [
    "Only use movies with more than 4171 votes (the mean) and an overall rating above 1. This reduces the number of movies to 12,362."
   ]
  },
  {
   "cell_type": "code",
   "execution_count": 307,
   "metadata": {},
   "outputs": [],
   "source": [
    "mod2 = mod.loc[mod['numVotes'] >= 4171]\n",
    "mod2 = mod2.loc[mod2['averageRating'] > 1]"
   ]
  },
  {
   "cell_type": "code",
   "execution_count": 5,
   "metadata": {},
   "outputs": [
    {
     "data": {
      "text/plain": [
       "12362"
      ]
     },
     "execution_count": 5,
     "metadata": {},
     "output_type": "execute_result"
    }
   ],
   "source": [
    "mod2['tconst'].nunique()"
   ]
  },
  {
   "cell_type": "markdown",
   "metadata": {},
   "source": [
    "Create a df of all the names with their unique identifieds (nconst). There are 50,183 total people."
   ]
  },
  {
   "cell_type": "code",
   "execution_count": 6,
   "metadata": {},
   "outputs": [
    {
     "data": {
      "text/plain": [
       "nconst         50183\n",
       "primaryName    50182\n",
       "dtype: int64"
      ]
     },
     "execution_count": 6,
     "metadata": {},
     "output_type": "execute_result"
    }
   ],
   "source": [
    "names = pd.DataFrame(mod2[['nconst','primaryName']].drop_duplicates())\n",
    "names.count()"
   ]
  },
  {
   "cell_type": "markdown",
   "metadata": {},
   "source": [
    "Create list of all movies to loop through to create dyadic dataset."
   ]
  },
  {
   "cell_type": "code",
   "execution_count": 7,
   "metadata": {},
   "outputs": [],
   "source": [
    "movies = mod2['tconst'].unique().tolist()"
   ]
  },
  {
   "cell_type": "markdown",
   "metadata": {},
   "source": [
    "Loop through all 12,362 movies and create dyads for each pair of people listed as principals in the same movie."
   ]
  },
  {
   "cell_type": "code",
   "execution_count": 19,
   "metadata": {},
   "outputs": [
    {
     "name": "stdout",
     "output_type": "stream",
     "text": [
      "tt0077696 1000 2019-08-03 10:25:44.080337\n",
      "tt0094663 2000 2019-08-03 10:25:55.377090\n",
      "tt0109842 3000 2019-08-03 10:26:09.383442\n",
      "tt0126916 4000 2019-08-03 10:26:25.786791\n",
      "tt0278291 5000 2019-08-03 10:26:45.020427\n",
      "tt0389828 6000 2019-08-03 10:27:07.748162\n",
      "tt0499375 7000 2019-08-03 10:27:35.002858\n",
      "tt1172203 8000 2019-08-03 10:28:05.096541\n",
      "tt1598873 9000 2019-08-03 10:28:38.322480\n",
      "tt2165765 10000 2019-08-03 10:29:14.365905\n",
      "tt3411444 11000 2019-08-03 10:29:53.182000\n",
      "tt6010628 12000 2019-08-03 10:30:33.100304\n"
     ]
    }
   ],
   "source": [
    "df = pd.DataFrame()\n",
    "counter = 0\n",
    "for x in movies:\n",
    "    counter = counter + 1\n",
    "    movie = mod2.loc[mod2['tconst'] == x]\n",
    "    temp = pd.DataFrame(list(itertools.combinations(movie['nconst'], 2)))\n",
    "    if len(temp) == 0:\n",
    "        continue\n",
    "    temp.columns= ['source', 'target']\n",
    "    df = pd.concat([df,temp])\n",
    "    if counter%1000 == 0:\n",
    "        print(x + \" \" + str( counter) + \" \" + str(datetime.datetime.now()))\n",
    "df = df.groupby([\"source\", \"target\"]).size().reset_index(name=\"freq\")"
   ]
  },
  {
   "cell_type": "code",
   "execution_count": 46,
   "metadata": {},
   "outputs": [],
   "source": [
    "df1 = pd.merge(df,names,how='left',left_on='source',right_on='nconst')\n",
    "df1 = pd.merge(df1,names,how='left',left_on='target',right_on='nconst')\n",
    "df1 = df1[['primaryName_x','primaryName_y','freq']]\n",
    "df1.columns= ['source', 'target','freq']"
   ]
  },
  {
   "cell_type": "code",
   "execution_count": 47,
   "metadata": {},
   "outputs": [],
   "source": [
    "df1.to_csv(\"cleanNetwork.csv\")"
   ]
  },
  {
   "cell_type": "code",
   "execution_count": 327,
   "metadata": {},
   "outputs": [],
   "source": [
    "df1 = pd.read_csv(\"cleanNetwork.csv\")\n",
    "df1 = df1[['source','target','freq']]"
   ]
  },
  {
   "cell_type": "code",
   "execution_count": 328,
   "metadata": {},
   "outputs": [],
   "source": [
    "df1 = df1.dropna()"
   ]
  },
  {
   "cell_type": "markdown",
   "metadata": {},
   "source": [
    "There are a total of 546,391 connections, 512,643 of which are unique."
   ]
  },
  {
   "cell_type": "code",
   "execution_count": 329,
   "metadata": {},
   "outputs": [
    {
     "name": "stdout",
     "output_type": "stream",
     "text": [
      "546391 total connections\n",
      "512643 unique connections\n"
     ]
    }
   ],
   "source": [
    "print(str(df1['freq'].sum()) + \" total connections\")\n",
    "print(str(df1['freq'].count()) + \" unique connections\")"
   ]
  },
  {
   "cell_type": "markdown",
   "metadata": {},
   "source": [
    "Who made the most movies in 2018? Miles Long. He made 41 movies with 265 unique collaborators."
   ]
  },
  {
   "cell_type": "code",
   "execution_count": 330,
   "metadata": {},
   "outputs": [
    {
     "data": {
      "text/plain": [
       "primaryName\n",
       "Miles Long             41\n",
       "Kevin MacLeod          27\n",
       "Gopi Sundar            20\n",
       "William Shakespeare    19\n",
       "Evan Tramel            18\n",
       "Name: freq, dtype: int64"
      ]
     },
     "execution_count": 330,
     "metadata": {},
     "output_type": "execute_result"
    }
   ],
   "source": [
    "pd.set_option('mode.chained_assignment', None)\n",
    "mod2018 = mod.loc[mod['startYear'] == 2018]\n",
    "mod2018['freq'] = mod2018.groupby('primaryName')['primaryName'].transform('count')\n",
    "mod2018.groupby('primaryName')['freq'].count().sort_values(ascending=False).head()"
   ]
  },
  {
   "cell_type": "code",
   "execution_count": 331,
   "metadata": {},
   "outputs": [
    {
     "data": {
      "text/plain": [
       "nconst_y    265\n",
       "Name        265\n",
       "dtype: int64"
      ]
     },
     "execution_count": 331,
     "metadata": {},
     "output_type": "execute_result"
    }
   ],
   "source": [
    "miles = getNetwork(\"nm0519117\",mod)\n",
    "miles = miles.drop_duplicates()\n",
    "miles.count()"
   ]
  },
  {
   "cell_type": "code",
   "execution_count": 332,
   "metadata": {},
   "outputs": [
    {
     "data": {
      "text/plain": [
       "2579809    cinematographer,director,camera_department\n",
       "Name: primaryProfession, dtype: object"
      ]
     },
     "execution_count": 332,
     "metadata": {},
     "output_type": "execute_result"
    }
   ],
   "source": [
    "mod2018.loc[mod2018['primaryName'] == \"Miles Long\"][\"primaryProfession\"].head(1)"
   ]
  },
  {
   "cell_type": "markdown",
   "metadata": {},
   "source": [
    "List of people who made the most movies."
   ]
  },
  {
   "cell_type": "code",
   "execution_count": 333,
   "metadata": {},
   "outputs": [
    {
     "data": {
      "text/plain": [
       "primaryName\n",
       "Jerry Goldsmith        82\n",
       "Robert De Niro         82\n",
       "Nicolas Cage           73\n",
       "Scott Rudin            71\n",
       "James Newton Howard    69\n",
       "Name: freq, dtype: int64"
      ]
     },
     "execution_count": 333,
     "metadata": {},
     "output_type": "execute_result"
    }
   ],
   "source": [
    "pd.set_option('mode.chained_assignment', None)\n",
    "mod2['freq'] = mod2.groupby('primaryName')['primaryName'].transform('count')\n",
    "mod2.groupby('primaryName')['freq'].count().sort_values(ascending=False).head()"
   ]
  },
  {
   "cell_type": "code",
   "execution_count": 334,
   "metadata": {},
   "outputs": [
    {
     "data": {
      "text/html": [
       "<div>\n",
       "<style scoped>\n",
       "    .dataframe tbody tr th:only-of-type {\n",
       "        vertical-align: middle;\n",
       "    }\n",
       "\n",
       "    .dataframe tbody tr th {\n",
       "        vertical-align: top;\n",
       "    }\n",
       "\n",
       "    .dataframe thead th {\n",
       "        text-align: right;\n",
       "    }\n",
       "</style>\n",
       "<table border=\"1\" class=\"dataframe\">\n",
       "  <thead>\n",
       "    <tr style=\"text-align: right;\">\n",
       "      <th></th>\n",
       "      <th>Unnamed: 0</th>\n",
       "      <th>tconst</th>\n",
       "      <th>ordering</th>\n",
       "      <th>nconst</th>\n",
       "      <th>category</th>\n",
       "      <th>job</th>\n",
       "      <th>characters</th>\n",
       "      <th>titleType</th>\n",
       "      <th>primaryTitle</th>\n",
       "      <th>originalTitle</th>\n",
       "      <th>...</th>\n",
       "      <th>runtimeMinutes</th>\n",
       "      <th>genres</th>\n",
       "      <th>averageRating</th>\n",
       "      <th>numVotes</th>\n",
       "      <th>primaryName</th>\n",
       "      <th>birthYear</th>\n",
       "      <th>deathYear</th>\n",
       "      <th>primaryProfession</th>\n",
       "      <th>knownForTitles</th>\n",
       "      <th>freq</th>\n",
       "    </tr>\n",
       "  </thead>\n",
       "  <tbody>\n",
       "  </tbody>\n",
       "</table>\n",
       "<p>0 rows × 23 columns</p>\n",
       "</div>"
      ],
      "text/plain": [
       "Empty DataFrame\n",
       "Columns: [Unnamed: 0, tconst, ordering, nconst, category, job, characters, titleType, primaryTitle, originalTitle, isAdult, startYear, endYear, runtimeMinutes, genres, averageRating, numVotes, primaryName, birthYear, deathYear, primaryProfession, knownForTitles, freq]\n",
       "Index: []\n",
       "\n",
       "[0 rows x 23 columns]"
      ]
     },
     "execution_count": 334,
     "metadata": {},
     "output_type": "execute_result"
    }
   ],
   "source": [
    "mod2.loc[mod2['primaryName'] == \"Miles Long\"]"
   ]
  },
  {
   "cell_type": "code",
   "execution_count": 359,
   "metadata": {},
   "outputs": [],
   "source": [
    "#Create graph using the data\n",
    "G=nx.from_pandas_edgelist(df1, 'source', 'target',edge_attr='freq')\n",
    "GU=nx.from_pandas_edgelist(df1, 'source', 'target')"
   ]
  },
  {
   "cell_type": "code",
   "execution_count": 360,
   "metadata": {},
   "outputs": [],
   "source": [
    "#Partition graph based on 'best partition'\n",
    "partition = community.best_partition(G,weight='freq')"
   ]
  },
  {
   "cell_type": "code",
   "execution_count": 361,
   "metadata": {},
   "outputs": [],
   "source": [
    "#Turn partition into dataframe\n",
    "partition1 = pd.DataFrame([partition]).T\n",
    "partition1 = partition1.reset_index()\n",
    "partition1.columns = ['index','value']"
   ]
  },
  {
   "cell_type": "code",
   "execution_count": 362,
   "metadata": {},
   "outputs": [
    {
     "data": {
      "text/html": [
       "<div>\n",
       "<style scoped>\n",
       "    .dataframe tbody tr th:only-of-type {\n",
       "        vertical-align: middle;\n",
       "    }\n",
       "\n",
       "    .dataframe tbody tr th {\n",
       "        vertical-align: top;\n",
       "    }\n",
       "\n",
       "    .dataframe thead th {\n",
       "        text-align: right;\n",
       "    }\n",
       "</style>\n",
       "<table border=\"1\" class=\"dataframe\">\n",
       "  <thead>\n",
       "    <tr style=\"text-align: right;\">\n",
       "      <th></th>\n",
       "      <th>nconst</th>\n",
       "      <th>degree</th>\n",
       "    </tr>\n",
       "  </thead>\n",
       "  <tbody>\n",
       "    <tr>\n",
       "      <th>0</th>\n",
       "      <td>Robert De Niro</td>\n",
       "      <td>613</td>\n",
       "    </tr>\n",
       "    <tr>\n",
       "      <th>1</th>\n",
       "      <td>Nicolas Cage</td>\n",
       "      <td>602</td>\n",
       "    </tr>\n",
       "    <tr>\n",
       "      <th>2</th>\n",
       "      <td>Jerry Goldsmith</td>\n",
       "      <td>600</td>\n",
       "    </tr>\n",
       "    <tr>\n",
       "      <th>3</th>\n",
       "      <td>Samuel L. Jackson</td>\n",
       "      <td>558</td>\n",
       "    </tr>\n",
       "    <tr>\n",
       "      <th>4</th>\n",
       "      <td>James Newton Howard</td>\n",
       "      <td>494</td>\n",
       "    </tr>\n",
       "    <tr>\n",
       "      <th>5</th>\n",
       "      <td>Scott Rudin</td>\n",
       "      <td>490</td>\n",
       "    </tr>\n",
       "    <tr>\n",
       "      <th>6</th>\n",
       "      <td>Bruce Willis</td>\n",
       "      <td>490</td>\n",
       "    </tr>\n",
       "    <tr>\n",
       "      <th>7</th>\n",
       "      <td>Mark Isham</td>\n",
       "      <td>467</td>\n",
       "    </tr>\n",
       "    <tr>\n",
       "      <th>8</th>\n",
       "      <td>Michael Caine</td>\n",
       "      <td>463</td>\n",
       "    </tr>\n",
       "    <tr>\n",
       "      <th>9</th>\n",
       "      <td>James Horner</td>\n",
       "      <td>448</td>\n",
       "    </tr>\n",
       "  </tbody>\n",
       "</table>\n",
       "</div>"
      ],
      "text/plain": [
       "                nconst  degree\n",
       "0       Robert De Niro     613\n",
       "1         Nicolas Cage     602\n",
       "2      Jerry Goldsmith     600\n",
       "3    Samuel L. Jackson     558\n",
       "4  James Newton Howard     494\n",
       "5          Scott Rudin     490\n",
       "6         Bruce Willis     490\n",
       "7           Mark Isham     467\n",
       "8        Michael Caine     463\n",
       "9         James Horner     448"
      ]
     },
     "execution_count": 362,
     "metadata": {},
     "output_type": "execute_result"
    }
   ],
   "source": [
    "#Find the degree of everyone in the network\n",
    "G_sorted = pd.DataFrame(sorted(G.degree, key=lambda x: x[1], reverse=True))\n",
    "G_sorted.columns = ['nconst','degree']\n",
    "#G_sorted = pd.merge(G_sorted,names,how='left',left_on='nconst',right_on='nconst')\n",
    "G_sorted.head(10)"
   ]
  },
  {
   "cell_type": "code",
   "execution_count": 31,
   "metadata": {},
   "outputs": [
    {
     "data": {
      "text/plain": [
       "nconst    49837\n",
       "degree    49837\n",
       "dtype: int64"
      ]
     },
     "execution_count": 31,
     "metadata": {},
     "output_type": "execute_result"
    }
   ],
   "source": [
    "G_sorted.count()"
   ]
  },
  {
   "cell_type": "code",
   "execution_count": 17,
   "metadata": {},
   "outputs": [
    {
     "data": {
      "text/plain": [
       "241550    48.0\n",
       "Name: freq, dtype: float64"
      ]
     },
     "execution_count": 17,
     "metadata": {},
     "output_type": "execute_result"
    }
   ],
   "source": [
    "mod2.loc[mod2['primaryName'] == \"Hans Zimmer\"]['freq'].head(1)"
   ]
  },
  {
   "cell_type": "code",
   "execution_count": 18,
   "metadata": {},
   "outputs": [
    {
     "data": {
      "text/html": [
       "<div>\n",
       "<style scoped>\n",
       "    .dataframe tbody tr th:only-of-type {\n",
       "        vertical-align: middle;\n",
       "    }\n",
       "\n",
       "    .dataframe tbody tr th {\n",
       "        vertical-align: top;\n",
       "    }\n",
       "\n",
       "    .dataframe thead th {\n",
       "        text-align: right;\n",
       "    }\n",
       "</style>\n",
       "<table border=\"1\" class=\"dataframe\">\n",
       "  <thead>\n",
       "    <tr style=\"text-align: right;\">\n",
       "      <th></th>\n",
       "      <th>nconst</th>\n",
       "      <th>degree</th>\n",
       "    </tr>\n",
       "  </thead>\n",
       "  <tbody>\n",
       "    <tr>\n",
       "      <th>38</th>\n",
       "      <td>Hans Zimmer</td>\n",
       "      <td>360</td>\n",
       "    </tr>\n",
       "  </tbody>\n",
       "</table>\n",
       "</div>"
      ],
      "text/plain": [
       "         nconst  degree\n",
       "38  Hans Zimmer     360"
      ]
     },
     "execution_count": 18,
     "metadata": {},
     "output_type": "execute_result"
    }
   ],
   "source": [
    "G_sorted.loc[G_sorted['nconst'] == \"Hans Zimmer\"]"
   ]
  },
  {
   "cell_type": "code",
   "execution_count": 335,
   "metadata": {},
   "outputs": [
    {
     "data": {
      "text/plain": [
       "195541    34.0\n",
       "Name: freq, dtype: float64"
      ]
     },
     "execution_count": 335,
     "metadata": {},
     "output_type": "execute_result"
    }
   ],
   "source": [
    "mod2.loc[mod2['primaryName'] == \"Kevin Bacon\"]['freq'].head(1)"
   ]
  },
  {
   "cell_type": "code",
   "execution_count": 336,
   "metadata": {},
   "outputs": [
    {
     "data": {
      "text/html": [
       "<div>\n",
       "<style scoped>\n",
       "    .dataframe tbody tr th:only-of-type {\n",
       "        vertical-align: middle;\n",
       "    }\n",
       "\n",
       "    .dataframe tbody tr th {\n",
       "        vertical-align: top;\n",
       "    }\n",
       "\n",
       "    .dataframe thead th {\n",
       "        text-align: right;\n",
       "    }\n",
       "</style>\n",
       "<table border=\"1\" class=\"dataframe\">\n",
       "  <thead>\n",
       "    <tr style=\"text-align: right;\">\n",
       "      <th></th>\n",
       "      <th>nconst</th>\n",
       "      <th>degree</th>\n",
       "    </tr>\n",
       "  </thead>\n",
       "  <tbody>\n",
       "    <tr>\n",
       "      <th>100</th>\n",
       "      <td>Kevin Bacon</td>\n",
       "      <td>298</td>\n",
       "    </tr>\n",
       "  </tbody>\n",
       "</table>\n",
       "</div>"
      ],
      "text/plain": [
       "          nconst  degree\n",
       "100  Kevin Bacon     298"
      ]
     },
     "execution_count": 336,
     "metadata": {},
     "output_type": "execute_result"
    }
   ],
   "source": [
    "G_sorted.loc[G_sorted['nconst'] == \"Kevin Bacon\"]"
   ]
  },
  {
   "cell_type": "markdown",
   "metadata": {},
   "source": [
    "# Centrality measures\n",
    "## Degree centrality"
   ]
  },
  {
   "cell_type": "code",
   "execution_count": 363,
   "metadata": {},
   "outputs": [],
   "source": [
    "dc = nx.degree_centrality(G)\n",
    "dc = pd.DataFrame([dc.keys(), dc.values()]).T\n",
    "dc.columns= ['names', 'values']  # call them whatever you like\n",
    "dc = dc.sort_values(by='values', ascending=False)\n",
    "#dc = pd.merge(dc,names,how='left',left_on='names',right_on='nconst')"
   ]
  },
  {
   "cell_type": "code",
   "execution_count": 364,
   "metadata": {},
   "outputs": [
    {
     "data": {
      "text/html": [
       "<div>\n",
       "<style scoped>\n",
       "    .dataframe tbody tr th:only-of-type {\n",
       "        vertical-align: middle;\n",
       "    }\n",
       "\n",
       "    .dataframe tbody tr th {\n",
       "        vertical-align: top;\n",
       "    }\n",
       "\n",
       "    .dataframe thead th {\n",
       "        text-align: right;\n",
       "    }\n",
       "</style>\n",
       "<table border=\"1\" class=\"dataframe\">\n",
       "  <thead>\n",
       "    <tr style=\"text-align: right;\">\n",
       "      <th></th>\n",
       "      <th>names</th>\n",
       "      <th>values</th>\n",
       "    </tr>\n",
       "  </thead>\n",
       "  <tbody>\n",
       "    <tr>\n",
       "      <th>5548</th>\n",
       "      <td>Robert De Niro</td>\n",
       "      <td>0.0123003</td>\n",
       "    </tr>\n",
       "    <tr>\n",
       "      <th>4729</th>\n",
       "      <td>Nicolas Cage</td>\n",
       "      <td>0.0120796</td>\n",
       "    </tr>\n",
       "    <tr>\n",
       "      <th>533</th>\n",
       "      <td>Jerry Goldsmith</td>\n",
       "      <td>0.0120395</td>\n",
       "    </tr>\n",
       "    <tr>\n",
       "      <th>4443</th>\n",
       "      <td>Samuel L. Jackson</td>\n",
       "      <td>0.0111967</td>\n",
       "    </tr>\n",
       "    <tr>\n",
       "      <th>559</th>\n",
       "      <td>James Newton Howard</td>\n",
       "      <td>0.00991251</td>\n",
       "    </tr>\n",
       "    <tr>\n",
       "      <th>1313</th>\n",
       "      <td>Scott Rudin</td>\n",
       "      <td>0.00983225</td>\n",
       "    </tr>\n",
       "    <tr>\n",
       "      <th>1723</th>\n",
       "      <td>Bruce Willis</td>\n",
       "      <td>0.00983225</td>\n",
       "    </tr>\n",
       "    <tr>\n",
       "      <th>2503</th>\n",
       "      <td>Mark Isham</td>\n",
       "      <td>0.00937074</td>\n",
       "    </tr>\n",
       "    <tr>\n",
       "      <th>1859</th>\n",
       "      <td>Michael Caine</td>\n",
       "      <td>0.00929047</td>\n",
       "    </tr>\n",
       "    <tr>\n",
       "      <th>1171</th>\n",
       "      <td>James Horner</td>\n",
       "      <td>0.00898949</td>\n",
       "    </tr>\n",
       "  </tbody>\n",
       "</table>\n",
       "</div>"
      ],
      "text/plain": [
       "                    names      values\n",
       "5548       Robert De Niro   0.0123003\n",
       "4729         Nicolas Cage   0.0120796\n",
       "533       Jerry Goldsmith   0.0120395\n",
       "4443    Samuel L. Jackson   0.0111967\n",
       "559   James Newton Howard  0.00991251\n",
       "1313          Scott Rudin  0.00983225\n",
       "1723         Bruce Willis  0.00983225\n",
       "2503           Mark Isham  0.00937074\n",
       "1859        Michael Caine  0.00929047\n",
       "1171         James Horner  0.00898949"
      ]
     },
     "execution_count": 364,
     "metadata": {},
     "output_type": "execute_result"
    }
   ],
   "source": [
    "dc.head(10)"
   ]
  },
  {
   "cell_type": "markdown",
   "metadata": {},
   "source": [
    "## Eigenvector centrality"
   ]
  },
  {
   "cell_type": "code",
   "execution_count": 366,
   "metadata": {},
   "outputs": [],
   "source": [
    "ec = nx.eigenvector_centrality(G,weight='freq')\n",
    "ec = pd.DataFrame([ec.keys(), ec.values()]).T\n",
    "ec.columns= ['names', 'values']  # call them whatever you like\n",
    "ec = ec.sort_values(by='values', ascending=False)"
   ]
  },
  {
   "cell_type": "code",
   "execution_count": 367,
   "metadata": {},
   "outputs": [
    {
     "data": {
      "text/html": [
       "<div>\n",
       "<style scoped>\n",
       "    .dataframe tbody tr th:only-of-type {\n",
       "        vertical-align: middle;\n",
       "    }\n",
       "\n",
       "    .dataframe tbody tr th {\n",
       "        vertical-align: top;\n",
       "    }\n",
       "\n",
       "    .dataframe thead th {\n",
       "        text-align: right;\n",
       "    }\n",
       "</style>\n",
       "<table border=\"1\" class=\"dataframe\">\n",
       "  <thead>\n",
       "    <tr style=\"text-align: right;\">\n",
       "      <th></th>\n",
       "      <th>names</th>\n",
       "      <th>values</th>\n",
       "    </tr>\n",
       "  </thead>\n",
       "  <tbody>\n",
       "    <tr>\n",
       "      <th>1313</th>\n",
       "      <td>Scott Rudin</td>\n",
       "      <td>0.104497</td>\n",
       "    </tr>\n",
       "    <tr>\n",
       "      <th>5548</th>\n",
       "      <td>Robert De Niro</td>\n",
       "      <td>0.101903</td>\n",
       "    </tr>\n",
       "    <tr>\n",
       "      <th>559</th>\n",
       "      <td>James Newton Howard</td>\n",
       "      <td>0.0982197</td>\n",
       "    </tr>\n",
       "    <tr>\n",
       "      <th>555</th>\n",
       "      <td>Brian Grazer</td>\n",
       "      <td>0.0820462</td>\n",
       "    </tr>\n",
       "    <tr>\n",
       "      <th>4443</th>\n",
       "      <td>Samuel L. Jackson</td>\n",
       "      <td>0.0794026</td>\n",
       "    </tr>\n",
       "    <tr>\n",
       "      <th>1723</th>\n",
       "      <td>Bruce Willis</td>\n",
       "      <td>0.0771971</td>\n",
       "    </tr>\n",
       "    <tr>\n",
       "      <th>2344</th>\n",
       "      <td>Hans Zimmer</td>\n",
       "      <td>0.0766405</td>\n",
       "    </tr>\n",
       "    <tr>\n",
       "      <th>3175</th>\n",
       "      <td>Tom Hanks</td>\n",
       "      <td>0.0763215</td>\n",
       "    </tr>\n",
       "    <tr>\n",
       "      <th>1751</th>\n",
       "      <td>Carter Burwell</td>\n",
       "      <td>0.0736478</td>\n",
       "    </tr>\n",
       "    <tr>\n",
       "      <th>533</th>\n",
       "      <td>Jerry Goldsmith</td>\n",
       "      <td>0.07256</td>\n",
       "    </tr>\n",
       "  </tbody>\n",
       "</table>\n",
       "</div>"
      ],
      "text/plain": [
       "                    names     values\n",
       "1313          Scott Rudin   0.104497\n",
       "5548       Robert De Niro   0.101903\n",
       "559   James Newton Howard  0.0982197\n",
       "555          Brian Grazer  0.0820462\n",
       "4443    Samuel L. Jackson  0.0794026\n",
       "1723         Bruce Willis  0.0771971\n",
       "2344          Hans Zimmer  0.0766405\n",
       "3175            Tom Hanks  0.0763215\n",
       "1751       Carter Burwell  0.0736478\n",
       "533       Jerry Goldsmith    0.07256"
      ]
     },
     "execution_count": 367,
     "metadata": {},
     "output_type": "execute_result"
    }
   ],
   "source": [
    "ec.head(10)"
   ]
  },
  {
   "cell_type": "markdown",
   "metadata": {},
   "source": [
    "## Betweenness centrality\n",
    "\n",
    "Since this one takes forever to calculate on such a large network, we limit to k=10000. Don't need to run this--just take the bc10.csv file and use from there. "
   ]
  },
  {
   "cell_type": "code",
   "execution_count": 406,
   "metadata": {},
   "outputs": [
    {
     "name": "stdout",
     "output_type": "stream",
     "text": [
      "2019-07-27 23:22:57.311688\n",
      "2019-07-28 13:40:31.942052\n"
     ]
    }
   ],
   "source": [
    "print(datetime.datetime.now())\n",
    "bc10 = nx.betweenness_centrality(G,k=10000,weight='freq')\n",
    "print(datetime.datetime.now())"
   ]
  },
  {
   "cell_type": "code",
   "execution_count": 66,
   "metadata": {},
   "outputs": [
    {
     "ename": "NameError",
     "evalue": "name 'bc10' is not defined",
     "output_type": "error",
     "traceback": [
      "\u001b[0;31m---------------------------------------------------------------------------\u001b[0m",
      "\u001b[0;31mNameError\u001b[0m                                 Traceback (most recent call last)",
      "\u001b[0;32m<ipython-input-66-5bf47974a097>\u001b[0m in \u001b[0;36m<module>\u001b[0;34m()\u001b[0m\n\u001b[0;32m----> 1\u001b[0;31m \u001b[0mbc10_2\u001b[0m \u001b[0;34m=\u001b[0m \u001b[0mpd\u001b[0m\u001b[0;34m.\u001b[0m\u001b[0mDataFrame\u001b[0m\u001b[0;34m(\u001b[0m\u001b[0;34m[\u001b[0m\u001b[0mbc10\u001b[0m\u001b[0;34m.\u001b[0m\u001b[0mkeys\u001b[0m\u001b[0;34m(\u001b[0m\u001b[0;34m)\u001b[0m\u001b[0;34m,\u001b[0m \u001b[0mbc10\u001b[0m\u001b[0;34m.\u001b[0m\u001b[0mvalues\u001b[0m\u001b[0;34m(\u001b[0m\u001b[0;34m)\u001b[0m\u001b[0;34m]\u001b[0m\u001b[0;34m)\u001b[0m\u001b[0;34m.\u001b[0m\u001b[0mT\u001b[0m\u001b[0;34m\u001b[0m\u001b[0m\n\u001b[0m\u001b[1;32m      2\u001b[0m \u001b[0mbc10_2\u001b[0m\u001b[0;34m.\u001b[0m\u001b[0mcolumns\u001b[0m\u001b[0;34m=\u001b[0m \u001b[0;34m[\u001b[0m\u001b[0;34m'names'\u001b[0m\u001b[0;34m,\u001b[0m \u001b[0;34m'values'\u001b[0m\u001b[0;34m]\u001b[0m  \u001b[0;31m# call them whatever you like\u001b[0m\u001b[0;34m\u001b[0m\u001b[0m\n\u001b[1;32m      3\u001b[0m \u001b[0mbc10_2\u001b[0m \u001b[0;34m=\u001b[0m \u001b[0mbc10_2\u001b[0m\u001b[0;34m.\u001b[0m\u001b[0msort_values\u001b[0m\u001b[0;34m(\u001b[0m\u001b[0mby\u001b[0m\u001b[0;34m=\u001b[0m\u001b[0;34m'values'\u001b[0m\u001b[0;34m,\u001b[0m \u001b[0mascending\u001b[0m\u001b[0;34m=\u001b[0m\u001b[0;32mFalse\u001b[0m\u001b[0;34m)\u001b[0m\u001b[0;34m\u001b[0m\u001b[0m\n\u001b[1;32m      4\u001b[0m \u001b[0mbc10_2\u001b[0m\u001b[0;34m.\u001b[0m\u001b[0mto_csv\u001b[0m\u001b[0;34m(\u001b[0m\u001b[0;34m\"bc10.csv\"\u001b[0m\u001b[0;34m)\u001b[0m\u001b[0;34m\u001b[0m\u001b[0m\n\u001b[1;32m      5\u001b[0m \u001b[0;31m#bc10_2 = pd.merge(bc10_2,names,how='left',left_on='names',right_on='nconst')\u001b[0m\u001b[0;34m\u001b[0m\u001b[0;34m\u001b[0m\u001b[0m\n",
      "\u001b[0;31mNameError\u001b[0m: name 'bc10' is not defined"
     ]
    }
   ],
   "source": [
    "bc10_2 = pd.DataFrame([bc10.keys(), bc10.values()]).T\n",
    "bc10_2.columns= ['names', 'values']  # call them whatever you like\n",
    "bc10_2 = bc10_2.sort_values(by='values', ascending=False)\n",
    "bc10_2.to_csv(\"bc10.csv\")\n",
    "#bc10_2 = pd.merge(bc10_2,names,how='left',left_on='names',right_on='nconst')"
   ]
  },
  {
   "cell_type": "code",
   "execution_count": 379,
   "metadata": {},
   "outputs": [],
   "source": [
    "bc10_2 = pd.read_csv(\"bc10.csv\")\n",
    "bc10_2 = bc10_2[['names','values']]"
   ]
  },
  {
   "cell_type": "code",
   "execution_count": 380,
   "metadata": {},
   "outputs": [
    {
     "data": {
      "text/html": [
       "<div>\n",
       "<style scoped>\n",
       "    .dataframe tbody tr th:only-of-type {\n",
       "        vertical-align: middle;\n",
       "    }\n",
       "\n",
       "    .dataframe tbody tr th {\n",
       "        vertical-align: top;\n",
       "    }\n",
       "\n",
       "    .dataframe thead th {\n",
       "        text-align: right;\n",
       "    }\n",
       "</style>\n",
       "<table border=\"1\" class=\"dataframe\">\n",
       "  <thead>\n",
       "    <tr style=\"text-align: right;\">\n",
       "      <th></th>\n",
       "      <th>names</th>\n",
       "      <th>values</th>\n",
       "    </tr>\n",
       "  </thead>\n",
       "  <tbody>\n",
       "    <tr>\n",
       "      <th>0</th>\n",
       "      <td>William Shakespeare</td>\n",
       "      <td>0.016681</td>\n",
       "    </tr>\n",
       "    <tr>\n",
       "      <th>1</th>\n",
       "      <td>A.R. Rahman</td>\n",
       "      <td>0.016104</td>\n",
       "    </tr>\n",
       "    <tr>\n",
       "      <th>2</th>\n",
       "      <td>Nicolas Cage</td>\n",
       "      <td>0.009823</td>\n",
       "    </tr>\n",
       "    <tr>\n",
       "      <th>3</th>\n",
       "      <td>Irrfan Khan</td>\n",
       "      <td>0.009543</td>\n",
       "    </tr>\n",
       "    <tr>\n",
       "      <th>4</th>\n",
       "      <td>Robert De Niro</td>\n",
       "      <td>0.008627</td>\n",
       "    </tr>\n",
       "    <tr>\n",
       "      <th>5</th>\n",
       "      <td>Gökhan Tiryaki</td>\n",
       "      <td>0.007772</td>\n",
       "    </tr>\n",
       "    <tr>\n",
       "      <th>6</th>\n",
       "      <td>Ennio Morricone</td>\n",
       "      <td>0.007663</td>\n",
       "    </tr>\n",
       "    <tr>\n",
       "      <th>7</th>\n",
       "      <td>Jerry Goldsmith</td>\n",
       "      <td>0.007182</td>\n",
       "    </tr>\n",
       "    <tr>\n",
       "      <th>8</th>\n",
       "      <td>Samuel L. Jackson</td>\n",
       "      <td>0.007162</td>\n",
       "    </tr>\n",
       "    <tr>\n",
       "      <th>9</th>\n",
       "      <td>Willem Dafoe</td>\n",
       "      <td>0.006965</td>\n",
       "    </tr>\n",
       "    <tr>\n",
       "      <th>10</th>\n",
       "      <td>Scott Rudin</td>\n",
       "      <td>0.006682</td>\n",
       "    </tr>\n",
       "    <tr>\n",
       "      <th>11</th>\n",
       "      <td>Jackie Chan</td>\n",
       "      <td>0.006676</td>\n",
       "    </tr>\n",
       "    <tr>\n",
       "      <th>12</th>\n",
       "      <td>Haluk Bilginer</td>\n",
       "      <td>0.006591</td>\n",
       "    </tr>\n",
       "    <tr>\n",
       "      <th>13</th>\n",
       "      <td>Michael Andrews</td>\n",
       "      <td>0.006053</td>\n",
       "    </tr>\n",
       "    <tr>\n",
       "      <th>14</th>\n",
       "      <td>Mychael Danna</td>\n",
       "      <td>0.005939</td>\n",
       "    </tr>\n",
       "    <tr>\n",
       "      <th>15</th>\n",
       "      <td>Jason Blum</td>\n",
       "      <td>0.005855</td>\n",
       "    </tr>\n",
       "    <tr>\n",
       "      <th>16</th>\n",
       "      <td>Stephen King</td>\n",
       "      <td>0.005800</td>\n",
       "    </tr>\n",
       "    <tr>\n",
       "      <th>17</th>\n",
       "      <td>Nicole Kidman</td>\n",
       "      <td>0.005770</td>\n",
       "    </tr>\n",
       "    <tr>\n",
       "      <th>18</th>\n",
       "      <td>Danny Glover</td>\n",
       "      <td>0.005697</td>\n",
       "    </tr>\n",
       "    <tr>\n",
       "      <th>19</th>\n",
       "      <td>Penélope Cruz</td>\n",
       "      <td>0.005656</td>\n",
       "    </tr>\n",
       "    <tr>\n",
       "      <th>20</th>\n",
       "      <td>Om Puri</td>\n",
       "      <td>0.005536</td>\n",
       "    </tr>\n",
       "    <tr>\n",
       "      <th>21</th>\n",
       "      <td>John Cusack</td>\n",
       "      <td>0.005470</td>\n",
       "    </tr>\n",
       "    <tr>\n",
       "      <th>22</th>\n",
       "      <td>Sylvester Stallone</td>\n",
       "      <td>0.005411</td>\n",
       "    </tr>\n",
       "    <tr>\n",
       "      <th>23</th>\n",
       "      <td>Michael Caine</td>\n",
       "      <td>0.005380</td>\n",
       "    </tr>\n",
       "    <tr>\n",
       "      <th>24</th>\n",
       "      <td>Julianne Moore</td>\n",
       "      <td>0.005376</td>\n",
       "    </tr>\n",
       "  </tbody>\n",
       "</table>\n",
       "</div>"
      ],
      "text/plain": [
       "                  names    values\n",
       "0   William Shakespeare  0.016681\n",
       "1           A.R. Rahman  0.016104\n",
       "2          Nicolas Cage  0.009823\n",
       "3           Irrfan Khan  0.009543\n",
       "4        Robert De Niro  0.008627\n",
       "5        Gökhan Tiryaki  0.007772\n",
       "6       Ennio Morricone  0.007663\n",
       "7       Jerry Goldsmith  0.007182\n",
       "8     Samuel L. Jackson  0.007162\n",
       "9          Willem Dafoe  0.006965\n",
       "10          Scott Rudin  0.006682\n",
       "11          Jackie Chan  0.006676\n",
       "12       Haluk Bilginer  0.006591\n",
       "13      Michael Andrews  0.006053\n",
       "14        Mychael Danna  0.005939\n",
       "15           Jason Blum  0.005855\n",
       "16         Stephen King  0.005800\n",
       "17        Nicole Kidman  0.005770\n",
       "18         Danny Glover  0.005697\n",
       "19        Penélope Cruz  0.005656\n",
       "20              Om Puri  0.005536\n",
       "21          John Cusack  0.005470\n",
       "22   Sylvester Stallone  0.005411\n",
       "23        Michael Caine  0.005380\n",
       "24       Julianne Moore  0.005376"
      ]
     },
     "execution_count": 380,
     "metadata": {},
     "output_type": "execute_result"
    }
   ],
   "source": [
    "bc10_2[:25]"
   ]
  },
  {
   "cell_type": "code",
   "execution_count": 370,
   "metadata": {},
   "outputs": [],
   "source": [
    "dc1 = pd.merge(dc,partition1, how='left', left_on=\"names\",right_on=\"index\")\n",
    "ec1 = pd.merge(ec,partition1, how='left', left_on=\"names\",right_on=\"index\")\n",
    "bc10_2 = pd.merge(bc10_2,partition1, how='left', left_on=\"names\",right_on=\"index\")"
   ]
  },
  {
   "cell_type": "code",
   "execution_count": 371,
   "metadata": {},
   "outputs": [],
   "source": [
    "dc1.to_csv(\"degreeCentrality.csv\")\n",
    "ec1.to_csv(\"eigenvectorCentrality.csv\")\n",
    "bc10_2.to_csv(\"betweennessCentrality.csv\")"
   ]
  },
  {
   "cell_type": "code",
   "execution_count": 382,
   "metadata": {},
   "outputs": [],
   "source": [
    "dc1 = pd.read_csv(\"degreeCentrality.csv\")\n",
    "ec1 = pd.read_csv(\"eigenvectorCentrality.csv\")\n",
    "bc10_2 = pd.read_csv(\"betweennessCentrality.csv\")"
   ]
  },
  {
   "cell_type": "code",
   "execution_count": 383,
   "metadata": {},
   "outputs": [],
   "source": [
    "dc1 = dc1.iloc[:,1:]\n",
    "ec1 = ec1.iloc[:,1:]\n",
    "bc10_2 = bc10_2.iloc[:,1:]"
   ]
  },
  {
   "cell_type": "code",
   "execution_count": 384,
   "metadata": {},
   "outputs": [
    {
     "data": {
      "text/html": [
       "<div>\n",
       "<style scoped>\n",
       "    .dataframe tbody tr th:only-of-type {\n",
       "        vertical-align: middle;\n",
       "    }\n",
       "\n",
       "    .dataframe tbody tr th {\n",
       "        vertical-align: top;\n",
       "    }\n",
       "\n",
       "    .dataframe thead th {\n",
       "        text-align: right;\n",
       "    }\n",
       "</style>\n",
       "<table border=\"1\" class=\"dataframe\">\n",
       "  <thead>\n",
       "    <tr style=\"text-align: right;\">\n",
       "      <th></th>\n",
       "      <th>names</th>\n",
       "      <th>values</th>\n",
       "      <th>index</th>\n",
       "      <th>value</th>\n",
       "    </tr>\n",
       "  </thead>\n",
       "  <tbody>\n",
       "    <tr>\n",
       "      <th>100</th>\n",
       "      <td>Kevin Bacon</td>\n",
       "      <td>0.00598</td>\n",
       "      <td>Kevin Bacon</td>\n",
       "      <td>2</td>\n",
       "    </tr>\n",
       "  </tbody>\n",
       "</table>\n",
       "</div>"
      ],
      "text/plain": [
       "           names   values        index  value\n",
       "100  Kevin Bacon  0.00598  Kevin Bacon      2"
      ]
     },
     "execution_count": 384,
     "metadata": {},
     "output_type": "execute_result"
    }
   ],
   "source": [
    "dc1.loc[dc1['names'] == \"Kevin Bacon\"]"
   ]
  },
  {
   "cell_type": "code",
   "execution_count": 385,
   "metadata": {},
   "outputs": [
    {
     "data": {
      "text/html": [
       "<div>\n",
       "<style scoped>\n",
       "    .dataframe tbody tr th:only-of-type {\n",
       "        vertical-align: middle;\n",
       "    }\n",
       "\n",
       "    .dataframe tbody tr th {\n",
       "        vertical-align: top;\n",
       "    }\n",
       "\n",
       "    .dataframe thead th {\n",
       "        text-align: right;\n",
       "    }\n",
       "</style>\n",
       "<table border=\"1\" class=\"dataframe\">\n",
       "  <thead>\n",
       "    <tr style=\"text-align: right;\">\n",
       "      <th></th>\n",
       "      <th>names</th>\n",
       "      <th>values</th>\n",
       "      <th>index</th>\n",
       "      <th>value</th>\n",
       "    </tr>\n",
       "  </thead>\n",
       "  <tbody>\n",
       "    <tr>\n",
       "      <th>87</th>\n",
       "      <td>Kevin Bacon</td>\n",
       "      <td>0.043862</td>\n",
       "      <td>Kevin Bacon</td>\n",
       "      <td>2</td>\n",
       "    </tr>\n",
       "  </tbody>\n",
       "</table>\n",
       "</div>"
      ],
      "text/plain": [
       "          names    values        index  value\n",
       "87  Kevin Bacon  0.043862  Kevin Bacon      2"
      ]
     },
     "execution_count": 385,
     "metadata": {},
     "output_type": "execute_result"
    }
   ],
   "source": [
    "ec1.loc[ec1['names'] == \"Kevin Bacon\"]"
   ]
  },
  {
   "cell_type": "code",
   "execution_count": 386,
   "metadata": {},
   "outputs": [
    {
     "data": {
      "text/html": [
       "<div>\n",
       "<style scoped>\n",
       "    .dataframe tbody tr th:only-of-type {\n",
       "        vertical-align: middle;\n",
       "    }\n",
       "\n",
       "    .dataframe tbody tr th {\n",
       "        vertical-align: top;\n",
       "    }\n",
       "\n",
       "    .dataframe thead th {\n",
       "        text-align: right;\n",
       "    }\n",
       "</style>\n",
       "<table border=\"1\" class=\"dataframe\">\n",
       "  <thead>\n",
       "    <tr style=\"text-align: right;\">\n",
       "      <th></th>\n",
       "      <th>names</th>\n",
       "      <th>values</th>\n",
       "      <th>index</th>\n",
       "      <th>value</th>\n",
       "    </tr>\n",
       "  </thead>\n",
       "  <tbody>\n",
       "    <tr>\n",
       "      <th>167</th>\n",
       "      <td>Kevin Bacon</td>\n",
       "      <td>0.002337</td>\n",
       "      <td>Kevin Bacon</td>\n",
       "      <td>2</td>\n",
       "    </tr>\n",
       "  </tbody>\n",
       "</table>\n",
       "</div>"
      ],
      "text/plain": [
       "           names    values        index  value\n",
       "167  Kevin Bacon  0.002337  Kevin Bacon      2"
      ]
     },
     "execution_count": 386,
     "metadata": {},
     "output_type": "execute_result"
    }
   ],
   "source": [
    "bc10_2.loc[bc10_2['names'] == \"Kevin Bacon\"]"
   ]
  },
  {
   "cell_type": "markdown",
   "metadata": {},
   "source": [
    "## Run centrality measures on subset of nodes\n",
    "\n",
    "For a visual comparing the different centrality measures we want to create a connected graph of a subset of nodes and then run all the centrality measures on that network. "
   ]
  },
  {
   "cell_type": "markdown",
   "metadata": {},
   "source": [
    "Our original graph isn't connected though, which could be problem when trying to create a connected subgraph."
   ]
  },
  {
   "cell_type": "code",
   "execution_count": 233,
   "metadata": {},
   "outputs": [
    {
     "data": {
      "text/plain": [
       "False"
      ]
     },
     "execution_count": 233,
     "metadata": {},
     "output_type": "execute_result"
    }
   ],
   "source": [
    "nx.is_connected(G)"
   ]
  },
  {
   "cell_type": "code",
   "execution_count": 234,
   "metadata": {},
   "outputs": [
    {
     "data": {
      "text/plain": [
       "49837"
      ]
     },
     "execution_count": 234,
     "metadata": {},
     "output_type": "execute_result"
    }
   ],
   "source": [
    "nx.number_of_nodes(G)"
   ]
  },
  {
   "cell_type": "markdown",
   "metadata": {},
   "source": [
    "We pick a node we know is well connected and eliminate all nodes not connected to that node. Here, I chose Nick Cage."
   ]
  },
  {
   "cell_type": "code",
   "execution_count": 235,
   "metadata": {},
   "outputs": [],
   "source": [
    "H = list(nx.node_connected_component(G, \"Nicolas Cage\"))\n",
    "df = df1.loc[(df1['source'].isin(H)) & (df1['target'].isin(H))]\n",
    "G_clean = nx.from_pandas_edgelist(df, 'source', 'target',edge_attr='freq')"
   ]
  },
  {
   "cell_type": "markdown",
   "metadata": {},
   "source": [
    "Now the network is connected."
   ]
  },
  {
   "cell_type": "code",
   "execution_count": 237,
   "metadata": {},
   "outputs": [
    {
     "data": {
      "text/plain": [
       "True"
      ]
     },
     "execution_count": 237,
     "metadata": {},
     "output_type": "execute_result"
    }
   ],
   "source": [
    "nx.is_connected(G_clean)"
   ]
  },
  {
   "cell_type": "markdown",
   "metadata": {},
   "source": [
    "And we only eliminated about 1000 nodes."
   ]
  },
  {
   "cell_type": "code",
   "execution_count": 239,
   "metadata": {},
   "outputs": [
    {
     "data": {
      "text/plain": [
       "48474"
      ]
     },
     "execution_count": 239,
     "metadata": {},
     "output_type": "execute_result"
    }
   ],
   "source": [
    "nx.number_of_nodes(G_clean)"
   ]
  },
  {
   "cell_type": "markdown",
   "metadata": {},
   "source": [
    "Now we take a random sample of these 48,474 nodes and create a graph with them."
   ]
  },
  {
   "cell_type": "code",
   "execution_count": 240,
   "metadata": {},
   "outputs": [],
   "source": [
    "#Get list of nodes from graph\n",
    "G_nodes = pd.DataFrame(sorted(G.degree, key=lambda x: x[1], reverse=True))\n",
    "G_nodes.columns = ['nconst','degree']\n",
    "\n",
    "#Take a sample of them\n",
    "df100 = G_nodes.sample(n=2000)\n",
    "\n",
    "#Create a network of those nodes\n",
    "df = df1.loc[(df1['source'].isin(df100['nconst'])) & (df1['target'].isin(df100['nconst']))]\n",
    "\n",
    "#Create a graph from that edgelist\n",
    "G_try = nx.from_pandas_edgelist(df, 'source', 'target',edge_attr='freq')"
   ]
  },
  {
   "cell_type": "code",
   "execution_count": 241,
   "metadata": {},
   "outputs": [
    {
     "data": {
      "text/plain": [
       "883"
      ]
     },
     "execution_count": 241,
     "metadata": {},
     "output_type": "execute_result"
    }
   ],
   "source": [
    "nx.number_of_nodes(G_try)"
   ]
  },
  {
   "cell_type": "markdown",
   "metadata": {},
   "source": [
    "But a random selection of nodes and the connections between them will not create a connected network."
   ]
  },
  {
   "cell_type": "code",
   "execution_count": 243,
   "metadata": {},
   "outputs": [
    {
     "data": {
      "text/plain": [
       "False"
      ]
     },
     "execution_count": 243,
     "metadata": {},
     "output_type": "execute_result"
    }
   ],
   "source": [
    "nx.is_connected(G_try)"
   ]
  },
  {
   "cell_type": "markdown",
   "metadata": {},
   "source": [
    "Find the node with the most centrality and then create then connected network with that node as the starting point."
   ]
  },
  {
   "cell_type": "code",
   "execution_count": 244,
   "metadata": {},
   "outputs": [],
   "source": [
    "dc1000 = nx.degree_centrality(G_try)\n",
    "dc1000 = pd.DataFrame([dc1000.keys(), dc1000.values()]).T\n",
    "dc1000.columns= ['names', 'values']  # call them whatever you like\n",
    "dc1000 = dc1000.sort_values(by='values', ascending=False)"
   ]
  },
  {
   "cell_type": "code",
   "execution_count": 245,
   "metadata": {},
   "outputs": [
    {
     "data": {
      "text/html": [
       "<div>\n",
       "<style scoped>\n",
       "    .dataframe tbody tr th:only-of-type {\n",
       "        vertical-align: middle;\n",
       "    }\n",
       "\n",
       "    .dataframe tbody tr th {\n",
       "        vertical-align: top;\n",
       "    }\n",
       "\n",
       "    .dataframe thead th {\n",
       "        text-align: right;\n",
       "    }\n",
       "</style>\n",
       "<table border=\"1\" class=\"dataframe\">\n",
       "  <thead>\n",
       "    <tr style=\"text-align: right;\">\n",
       "      <th></th>\n",
       "      <th>names</th>\n",
       "      <th>values</th>\n",
       "    </tr>\n",
       "  </thead>\n",
       "  <tbody>\n",
       "    <tr>\n",
       "      <th>47</th>\n",
       "      <td>Christopher Walken</td>\n",
       "      <td>0.0192744</td>\n",
       "    </tr>\n",
       "    <tr>\n",
       "      <th>88</th>\n",
       "      <td>Denise Di Novi</td>\n",
       "      <td>0.015873</td>\n",
       "    </tr>\n",
       "    <tr>\n",
       "      <th>139</th>\n",
       "      <td>Marco Beltrami</td>\n",
       "      <td>0.015873</td>\n",
       "    </tr>\n",
       "    <tr>\n",
       "      <th>435</th>\n",
       "      <td>Shah Rukh Khan</td>\n",
       "      <td>0.0147392</td>\n",
       "    </tr>\n",
       "    <tr>\n",
       "      <th>1</th>\n",
       "      <td>Val Kilmer</td>\n",
       "      <td>0.0147392</td>\n",
       "    </tr>\n",
       "  </tbody>\n",
       "</table>\n",
       "</div>"
      ],
      "text/plain": [
       "                  names     values\n",
       "47   Christopher Walken  0.0192744\n",
       "88       Denise Di Novi   0.015873\n",
       "139      Marco Beltrami   0.015873\n",
       "435      Shah Rukh Khan  0.0147392\n",
       "1            Val Kilmer  0.0147392"
      ]
     },
     "execution_count": 245,
     "metadata": {},
     "output_type": "execute_result"
    }
   ],
   "source": [
    "dc1000.head()"
   ]
  },
  {
   "cell_type": "code",
   "execution_count": 272,
   "metadata": {},
   "outputs": [],
   "source": [
    "H = list(nx.node_connected_component(G_try, \"Christopher Walken\"))\n",
    "net1000 = df1.loc[(df1['source'].isin(H)) & (df1['target'].isin(H))]\n",
    "G_clean = nx.from_pandas_edgelist(net1000, 'source', 'target',edge_attr='freq')"
   ]
  },
  {
   "cell_type": "code",
   "execution_count": 273,
   "metadata": {},
   "outputs": [
    {
     "data": {
      "text/plain": [
       "True"
      ]
     },
     "execution_count": 273,
     "metadata": {},
     "output_type": "execute_result"
    }
   ],
   "source": [
    "nx.is_connected(G_clean)"
   ]
  },
  {
   "cell_type": "code",
   "execution_count": 274,
   "metadata": {},
   "outputs": [
    {
     "data": {
      "text/plain": [
       "424"
      ]
     },
     "execution_count": 274,
     "metadata": {},
     "output_type": "execute_result"
    }
   ],
   "source": [
    "nx.number_of_nodes(G_clean)"
   ]
  },
  {
   "cell_type": "code",
   "execution_count": 275,
   "metadata": {},
   "outputs": [],
   "source": [
    "pos = nx.spring_layout(G_clean)"
   ]
  },
  {
   "cell_type": "code",
   "execution_count": 276,
   "metadata": {},
   "outputs": [
    {
     "data": {
      "text/plain": [
       "<matplotlib.collections.LineCollection at 0xa539dce48>"
      ]
     },
     "execution_count": 276,
     "metadata": {},
     "output_type": "execute_result"
    },
    {
     "data": {
      "image/png": "[encoded data removed]",
      "text/plain": [
       "<matplotlib.figure.Figure at 0x113f114668>"
      ]
     },
     "metadata": {},
     "output_type": "display_data"
    }
   ],
   "source": [
    "f, ax = plt.subplots(figsize=(10, 10))\n",
    "plt.style.use('ggplot')\n",
    "\n",
    "#cc = nx.betweenness_centrality(G2)\n",
    "nodes = nx.draw_networkx_nodes(G_clean, pos,\n",
    "                               cmap=plt.cm.Set1,\n",
    "                               #node_color=ccp['value'],\n",
    "                               #node_size=[((v*10000)) for v in cc.values()],\n",
    "                               alpha=0.8)\n",
    "nodes.set_edgecolor('k')\n",
    "nx.draw_networkx_labels(G_clean, pos, font_size=8)\n",
    "\n",
    "nx.draw_networkx_edges(G_clean, pos, width=1.0, alpha=0.2)"
   ]
  },
  {
   "cell_type": "markdown",
   "metadata": {},
   "source": [
    "# Run centrality measures on this new subgraph."
   ]
  },
  {
   "cell_type": "code",
   "execution_count": 277,
   "metadata": {},
   "outputs": [],
   "source": [
    "dc1000 = nx.degree_centrality(G_clean)\n",
    "dc1000 = pd.DataFrame([dc1000.keys(), dc1000.values()]).T\n",
    "dc1000.columns= ['names', 'values']\n",
    "dc1000 = dc1000.sort_values(by='values', ascending=False)\n",
    "dc1000 = pd.merge(dc1000,partition1, how='left', left_on=\"names\",right_on=\"index\")"
   ]
  },
  {
   "cell_type": "code",
   "execution_count": 302,
   "metadata": {},
   "outputs": [],
   "source": [
    "ec1000 = nx.eigenvector_centrality(G_clean,weight='freq',max_iter=1000)\n",
    "ec1000 = pd.DataFrame([ec1000.keys(), ec1000.values()]).T\n",
    "ec1000.columns= ['names', 'values']\n",
    "ec1000 = ec1000.sort_values(by='values', ascending=False)\n",
    "ec1000 = pd.merge(ec1000,partition1, how='left', left_on=\"names\",right_on=\"index\")"
   ]
  },
  {
   "cell_type": "code",
   "execution_count": 279,
   "metadata": {},
   "outputs": [],
   "source": [
    "bc1000 = nx.betweenness_centrality(G_clean,weight='freq')\n",
    "bc1000 = pd.DataFrame([bc1000.keys(), bc1000.values()]).T\n",
    "bc1000.columns= ['names', 'values']\n",
    "bc1000 = bc1000.sort_values(by='values', ascending=False)\n",
    "bc1000 = pd.merge(bc1000,partition1, how='left', left_on=\"names\",right_on=\"index\")"
   ]
  },
  {
   "cell_type": "code",
   "execution_count": 280,
   "metadata": {},
   "outputs": [],
   "source": [
    "cc1000 = nx.closeness_centrality(G_clean,distance='freq')\n",
    "cc1000 = pd.DataFrame([cc1000.keys(), cc1000.values()]).T\n",
    "cc1000.columns= ['names', 'values']\n",
    "cc1000 = cc1000.sort_values(by='values', ascending=False)\n",
    "cc1000 = pd.merge(cc1000,partition1, how='left', left_on=\"names\",right_on=\"index\")"
   ]
  },
  {
   "cell_type": "markdown",
   "metadata": {},
   "source": [
    "Combine all centrality measures into one node file and one link file for Gephi visualizations."
   ]
  },
  {
   "cell_type": "code",
   "execution_count": 284,
   "metadata": {},
   "outputs": [],
   "source": [
    "dc1000 = dc1000[['names','values','value']]\n",
    "dc1000.columns = ['names','dc','group']\n",
    "ec1000 = ec1000[['names','values']]\n",
    "ec1000.columns = ['names','ec']\n",
    "bc1000 = bc1000[['names','values']]\n",
    "bc1000.columns = ['names','bc']\n",
    "cc1000 = cc1000[['names','values']]\n",
    "cc1000.columns = ['names','cc']"
   ]
  },
  {
   "cell_type": "code",
   "execution_count": 285,
   "metadata": {},
   "outputs": [],
   "source": [
    "nodes1000 = pd.merge(dc1000,ec1000, how='left', left_on=\"names\",right_on=\"names\")\n",
    "nodes1000 = pd.merge(nodes1000,bc1000, how='left', left_on=\"names\",right_on=\"names\")\n",
    "nodes1000 = pd.merge(nodes1000,cc1000, how='left', left_on=\"names\",right_on=\"names\")"
   ]
  },
  {
   "cell_type": "code",
   "execution_count": 286,
   "metadata": {},
   "outputs": [],
   "source": [
    "nodes1000 = nodes1000[['names','group','dc','ec','bc','cc']]"
   ]
  },
  {
   "cell_type": "markdown",
   "metadata": {},
   "source": [
    "Gephi is particular that the node id column be called \"Id\""
   ]
  },
  {
   "cell_type": "code",
   "execution_count": 290,
   "metadata": {},
   "outputs": [],
   "source": [
    "nodes1000 = nodes1000.rename(columns={'names': 'Id'})"
   ]
  },
  {
   "cell_type": "markdown",
   "metadata": {},
   "source": [
    "Output these data into csv files for Gephi"
   ]
  },
  {
   "cell_type": "code",
   "execution_count": 293,
   "metadata": {},
   "outputs": [],
   "source": [
    "nodes1000.to_csv(\"nodesForGephi1000.csv\")\n",
    "net1000.to_csv(\"linksForGephi1000.csv\")"
   ]
  },
  {
   "cell_type": "markdown",
   "metadata": {},
   "source": [
    "Create the nodes and links files for creating the Gephi visual and the d3 visual. "
   ]
  },
  {
   "cell_type": "code",
   "execution_count": 406,
   "metadata": {},
   "outputs": [],
   "source": [
    "nodes,net = createTopNodesforVisual(bc10_2,\"total\",12,0.001,4)"
   ]
  },
  {
   "cell_type": "code",
   "execution_count": 407,
   "metadata": {},
   "outputs": [
    {
     "data": {
      "text/plain": [
       "90"
      ]
     },
     "execution_count": 407,
     "metadata": {},
     "output_type": "execute_result"
    }
   ],
   "source": [
    "nodes['id'].count()"
   ]
  },
  {
   "cell_type": "code",
   "execution_count": 408,
   "metadata": {},
   "outputs": [
    {
     "data": {
      "text/plain": [
       "13"
      ]
     },
     "execution_count": 408,
     "metadata": {},
     "output_type": "execute_result"
    }
   ],
   "source": [
    "nodes['value'].nunique()"
   ]
  },
  {
   "cell_type": "code",
   "execution_count": 409,
   "metadata": {},
   "outputs": [],
   "source": [
    "#exportData(nodes,net,\"bc\")"
   ]
  },
  {
   "cell_type": "markdown",
   "metadata": {},
   "source": [
    "Save these as csv files for the Gephi visual."
   ]
  },
  {
   "cell_type": "code",
   "execution_count": 410,
   "metadata": {},
   "outputs": [],
   "source": [
    "nodes.to_csv(\"nodesVisual.csv\")\n",
    "net.to_csv(\"netVisual.csv\")"
   ]
  },
  {
   "cell_type": "code",
   "execution_count": 388,
   "metadata": {},
   "outputs": [],
   "source": [
    "def createTopNodesforVisual(df,nameOfFile,head,threshold,minDegree):\n",
    "    #Only use groups with more than 900 members\n",
    "    top = df.groupby('value')['names'].filter(lambda x: len(x) > 900)\n",
    "    df = df.loc[df['names'].isin(top)]\n",
    "    #df = df.loc[~((df['value'] == 0) | (df['value'] == 15))] #Just manually remove these tiny group\n",
    "    degreeNetwork = filterByPartitionAndCentrality(df,head,threshold)\n",
    "    degreeNetwork = degreeNetwork.sort_values(by=\"values\",ascending=False).head(1000)\n",
    "    singles = degreeNetwork.groupby('value')['names'].filter(lambda x: len(x) < 4)\n",
    "    degreeNetwork = degreeNetwork.loc[~degreeNetwork['names'].isin(singles)]\n",
    "    degreeNetwork = buildNetworkFromData(df1,degreeNetwork,minDegree)\n",
    "    nodes = buildNodesFromLinks(degreeNetwork,df)\n",
    "    exportData(nodes,degreeNetwork,nameOfFile)\n",
    "    return(nodes,degreeNetwork)"
   ]
  },
  {
   "cell_type": "code",
   "execution_count": 312,
   "metadata": {},
   "outputs": [],
   "source": [
    "#This returns the network of a given actor. \n",
    "def getNetwork(name,network):\n",
    "    node = network.loc[network['nconst'] == name]\n",
    "    nodeNetwork = pd.merge(node,network, how='left', left_on=\"tconst\",right_on=\"tconst\")\n",
    "    node = pd.DataFrame(nodeNetwork['nconst_y'])\n",
    "    node['freq'] = node.groupby('nconst_y')['nconst_y'].transform('count')\n",
    "    node['Name'] = name\n",
    "    node = node.drop_duplicates()\n",
    "    node = node.drop(node[node['nconst_y'] == name].index)\n",
    "    node = pd.DataFrame(np.sort(node[['nconst_y','Name']],1)).drop_duplicates()\n",
    "    node = node.drop_duplicates()\n",
    "    node.columns = ['nconst_y','Name']\n",
    "    return(node)"
   ]
  },
  {
   "cell_type": "code",
   "execution_count": 313,
   "metadata": {},
   "outputs": [],
   "source": [
    "def buildNetworkFromData(network,df,minDegree):\n",
    "    df = network.loc[(network['source'].isin(df['names'])) & (network['target'].isin(df['names']))]\n",
    "    G_clean = nx.from_pandas_edgelist(df, 'source', 'target',edge_attr='freq')\n",
    "    remove = [node for node,degree in dict(G_clean.degree()).items() if degree < minDegree]\n",
    "    G_clean.remove_nodes_from(remove)\n",
    "    G_clean = nx.to_pandas_edgelist(G_clean)\n",
    "    #G_clean = pd.merge(G_clean,names,how='left',left_on='source',right_on='nconst')\n",
    "    #G_clean = pd.merge(G_clean,names,how='left',left_on='target',right_on='nconst')\n",
    "    G_clean = pd.DataFrame(G_clean[['source','target','freq']])\n",
    "    #G_clean.columns = ['source','target']\n",
    "    #G_clean = G_clean.dropna()\n",
    "    #G_clean = G_clean.drop_duplicates()\n",
    "    return G_clean"
   ]
  },
  {
   "cell_type": "code",
   "execution_count": 314,
   "metadata": {},
   "outputs": [],
   "source": [
    "def filterByPartitionAndCentrality(df,head,centralityThreshold):\n",
    "    df = df.groupby('value').head(head)\n",
    "    #df = df.head(head)\n",
    "    df = df.loc[df['values'] > centralityThreshold]\n",
    "    return df"
   ]
  },
  {
   "cell_type": "code",
   "execution_count": 315,
   "metadata": {},
   "outputs": [],
   "source": [
    "def buildNodesFromLinks(df,centralityData):\n",
    "    nodes1 = pd.DataFrame(df['source'])\n",
    "    nodes2 = pd.DataFrame(df['target'])\n",
    "    nodes2.columns = ['source']\n",
    "    nodes = pd.concat([nodes1,nodes2])\n",
    "    nodes = nodes.drop_duplicates()\n",
    "    nodes2 = pd.merge(nodes,centralityData,how='left',left_on='source',right_on='names')\n",
    "    nodes2 = nodes2.dropna()\n",
    "    nodes2 = pd.DataFrame(nodes2[['names','values','value']])\n",
    "    nodes2.columns = ['id','cent','value']\n",
    "    return nodes2"
   ]
  },
  {
   "cell_type": "code",
   "execution_count": 316,
   "metadata": {},
   "outputs": [],
   "source": [
    "def exportData(nodes,network,fileName):\n",
    "    d1 = nodes.to_dict(orient='records')\n",
    "    j1 = json.dumps(d1)\n",
    "    d2 = network.to_dict(orient='records')\n",
    "    j2 = json.dumps(d2)\n",
    "    d1 = {\"nodes\":d1, \"links\":d2}\n",
    "    with open(fileName + \".json\", 'w', encoding='utf-8') as f:\n",
    "        json.dump(d1, f, ensure_ascii=False,indent=4)"
   ]
  }
 ],
 "metadata": {
  "kernelspec": {
   "display_name": "Python 3",
   "language": "python",
   "name": "python3"
  },
  "language_info": {
   "codemirror_mode": {
    "name": "ipython",
    "version": 3
   },
   "file_extension": ".py",
   "mimetype": "text/x-python",
   "name": "python",
   "nbconvert_exporter": "python",
   "pygments_lexer": "ipython3",
   "version": "3.6.4"
  }
 },
 "nbformat": 4,
 "nbformat_minor": 2
}
